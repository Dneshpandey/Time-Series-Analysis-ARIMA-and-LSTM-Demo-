{
 "cells": [
  {
   "cell_type": "markdown",
   "metadata": {},
   "source": [
    "# Please check from the LSTM implementation"
   ]
  },
  {
   "cell_type": "code",
   "execution_count": 246,
   "metadata": {},
   "outputs": [],
   "source": [
    "# import necessary libraries\n",
    "import pandas as pd\n",
    "import os\n",
    "import glob\n",
    "import datetime as dt\n",
    "from datetime import datetime \n",
    "from matplotlib import pyplot as plt\n",
    "from math import sqrt\n",
    "from sklearn.metrics import mean_squared_error\n",
    "from sklearn.model_selection import train_test_split\n",
    "from statsmodels.tsa.arima.model import ARIMA\n",
    "#import pandas_datareader as webreader # Remote data access for pandas\n",
    "\n",
    "import math # Mathematical functions \n",
    "import numpy as np # Fundamental package for scientific computing with Python\n",
    "from numpy import array\n",
    "import pandas as pd # Additional functions for analysing and manipulating data\n",
    "import matplotlib.dates as mdates # Formatting dates\n",
    "from sklearn.metrics import mean_absolute_error, mean_squared_error # Packages for measuring model performance / errors\n",
    "from tensorflow.keras.models import Sequential # Deep learning library, used for neural networks\n",
    "from tensorflow.keras.layers import LSTM, Dense, Dropout # Deep learning classes for recurrent and regular densely-connected layers\n",
    "from tensorflow.keras.callbacks import EarlyStopping # EarlyStopping during model training\n",
    "from sklearn.preprocessing import RobustScaler, MinMaxScaler # This Scaler removes the median and scales the data according to the quantile range to normalize the price data \n",
    "from sklearn.model_selection import train_test_split\n",
    "from tensorflow.keras.callbacks import EarlyStopping, ReduceLROnPlateau, ModelCheckpoint, TensorBoard\n",
    "# Import Libraries and packages from Keras\n",
    "from tensorflow.keras.optimizers import Adam\n",
    "plt.style.use('fivethirtyeight')"
   ]
  },
  {
   "cell_type": "code",
   "execution_count": 3,
   "metadata": {},
   "outputs": [],
   "source": [
    "path = os.getcwd()\n",
    "txt_files = glob.glob(os.path.join(path, \"/Users/dinesh/Documents/Data Science/ASX-2015-2018_orig\", \"*.txt\"))"
   ]
  },
  {
   "cell_type": "code",
   "execution_count": 4,
   "metadata": {},
   "outputs": [
    {
     "data": {
      "text/html": [
       "<div>\n",
       "<style scoped>\n",
       "    .dataframe tbody tr th:only-of-type {\n",
       "        vertical-align: middle;\n",
       "    }\n",
       "\n",
       "    .dataframe tbody tr th {\n",
       "        vertical-align: top;\n",
       "    }\n",
       "\n",
       "    .dataframe thead th {\n",
       "        text-align: right;\n",
       "    }\n",
       "</style>\n",
       "<table border=\"1\" class=\"dataframe\">\n",
       "  <thead>\n",
       "    <tr style=\"text-align: right;\">\n",
       "      <th></th>\n",
       "      <th>Ticker</th>\n",
       "      <th>Date</th>\n",
       "      <th>Open</th>\n",
       "      <th>High</th>\n",
       "      <th>Low</th>\n",
       "      <th>Close</th>\n",
       "      <th>Volume</th>\n",
       "    </tr>\n",
       "  </thead>\n",
       "  <tbody>\n",
       "    <tr>\n",
       "      <th>0</th>\n",
       "      <td>1AL</td>\n",
       "      <td>2016-01-21</td>\n",
       "      <td>1.030</td>\n",
       "      <td>1.030</td>\n",
       "      <td>1.030</td>\n",
       "      <td>1.030</td>\n",
       "      <td>3000</td>\n",
       "    </tr>\n",
       "    <tr>\n",
       "      <th>1</th>\n",
       "      <td>1PG</td>\n",
       "      <td>2016-01-21</td>\n",
       "      <td>3.150</td>\n",
       "      <td>3.150</td>\n",
       "      <td>2.850</td>\n",
       "      <td>3.040</td>\n",
       "      <td>505502</td>\n",
       "    </tr>\n",
       "    <tr>\n",
       "      <th>2</th>\n",
       "      <td>3DM</td>\n",
       "      <td>2016-01-21</td>\n",
       "      <td>0.076</td>\n",
       "      <td>0.076</td>\n",
       "      <td>0.075</td>\n",
       "      <td>0.075</td>\n",
       "      <td>59659</td>\n",
       "    </tr>\n",
       "    <tr>\n",
       "      <th>3</th>\n",
       "      <td>3PL</td>\n",
       "      <td>2016-01-21</td>\n",
       "      <td>1.430</td>\n",
       "      <td>1.530</td>\n",
       "      <td>1.355</td>\n",
       "      <td>1.520</td>\n",
       "      <td>646143</td>\n",
       "    </tr>\n",
       "    <tr>\n",
       "      <th>4</th>\n",
       "      <td>4DS</td>\n",
       "      <td>2016-01-21</td>\n",
       "      <td>0.034</td>\n",
       "      <td>0.034</td>\n",
       "      <td>0.033</td>\n",
       "      <td>0.033</td>\n",
       "      <td>330000</td>\n",
       "    </tr>\n",
       "  </tbody>\n",
       "</table>\n",
       "</div>"
      ],
      "text/plain": [
       "  Ticker       Date   Open   High    Low  Close  Volume\n",
       "0    1AL 2016-01-21  1.030  1.030  1.030  1.030    3000\n",
       "1    1PG 2016-01-21  3.150  3.150  2.850  3.040  505502\n",
       "2    3DM 2016-01-21  0.076  0.076  0.075  0.075   59659\n",
       "3    3PL 2016-01-21  1.430  1.530  1.355  1.520  646143\n",
       "4    4DS 2016-01-21  0.034  0.034  0.033  0.033  330000"
      ]
     },
     "execution_count": 4,
     "metadata": {},
     "output_type": "execute_result"
    }
   ],
   "source": [
    "# use glob to get all the csv files \n",
    "# in the folder\n",
    "path = os.getcwd()\n",
    "csv_files = glob.glob(os.path.join(path, \"*.csv\"))\n",
    "\n",
    "df = pd.DataFrame()\n",
    "  \n",
    "# loop over the list of csv files\n",
    "for f in txt_files:\n",
    "      \n",
    "    # read the csv file\n",
    "    current_df = pd.read_csv(f, header=None)\n",
    "    #pd.read_csv(io.StringIO(t), names=['Date','AgentName','Group','Direction'], skiprows=1,)\n",
    "    df = df.append(current_df,ignore_index=True)\n",
    "      \n",
    "df.columns = [\"Ticker\", \"Date\", \"Open\", \"High\", \"Low\", \"Close\", \"Volume\"]\n",
    "df['Date']=pd.to_datetime(df['Date'], format='%Y%m%d')\n",
    "df.head()  "
   ]
  },
  {
   "cell_type": "code",
   "execution_count": 247,
   "metadata": {},
   "outputs": [
    {
     "data": {
      "text/html": [
       "<div>\n",
       "<style scoped>\n",
       "    .dataframe tbody tr th:only-of-type {\n",
       "        vertical-align: middle;\n",
       "    }\n",
       "\n",
       "    .dataframe tbody tr th {\n",
       "        vertical-align: top;\n",
       "    }\n",
       "\n",
       "    .dataframe thead th {\n",
       "        text-align: right;\n",
       "    }\n",
       "</style>\n",
       "<table border=\"1\" class=\"dataframe\">\n",
       "  <thead>\n",
       "    <tr style=\"text-align: right;\">\n",
       "      <th>Ticker</th>\n",
       "      <th>1AD</th>\n",
       "      <th>1AG</th>\n",
       "      <th>1AL</th>\n",
       "      <th>1PG</th>\n",
       "      <th>1ST</th>\n",
       "      <th>3DM</th>\n",
       "      <th>3DP</th>\n",
       "      <th>3PL</th>\n",
       "      <th>4CE</th>\n",
       "      <th>4DS</th>\n",
       "      <th>...</th>\n",
       "      <th>ZNO</th>\n",
       "      <th>ZNT</th>\n",
       "      <th>ZNZ</th>\n",
       "      <th>ZOZI</th>\n",
       "      <th>ZRL</th>\n",
       "      <th>ZTA</th>\n",
       "      <th>ZUSD</th>\n",
       "      <th>ZYB</th>\n",
       "      <th>ZYL</th>\n",
       "      <th>ZYUS</th>\n",
       "    </tr>\n",
       "    <tr>\n",
       "      <th>Date</th>\n",
       "      <th></th>\n",
       "      <th></th>\n",
       "      <th></th>\n",
       "      <th></th>\n",
       "      <th></th>\n",
       "      <th></th>\n",
       "      <th></th>\n",
       "      <th></th>\n",
       "      <th></th>\n",
       "      <th></th>\n",
       "      <th></th>\n",
       "      <th></th>\n",
       "      <th></th>\n",
       "      <th></th>\n",
       "      <th></th>\n",
       "      <th></th>\n",
       "      <th></th>\n",
       "      <th></th>\n",
       "      <th></th>\n",
       "      <th></th>\n",
       "      <th></th>\n",
       "    </tr>\n",
       "  </thead>\n",
       "  <tbody>\n",
       "    <tr>\n",
       "      <th>2015-01-02</th>\n",
       "      <td>NaN</td>\n",
       "      <td>NaN</td>\n",
       "      <td>NaN</td>\n",
       "      <td>1.215</td>\n",
       "      <td>NaN</td>\n",
       "      <td>NaN</td>\n",
       "      <td>NaN</td>\n",
       "      <td>2.26</td>\n",
       "      <td>NaN</td>\n",
       "      <td>NaN</td>\n",
       "      <td>...</td>\n",
       "      <td>NaN</td>\n",
       "      <td>NaN</td>\n",
       "      <td>NaN</td>\n",
       "      <td>NaN</td>\n",
       "      <td>0.067</td>\n",
       "      <td>NaN</td>\n",
       "      <td>NaN</td>\n",
       "      <td>NaN</td>\n",
       "      <td>NaN</td>\n",
       "      <td>NaN</td>\n",
       "    </tr>\n",
       "    <tr>\n",
       "      <th>2015-01-05</th>\n",
       "      <td>NaN</td>\n",
       "      <td>NaN</td>\n",
       "      <td>NaN</td>\n",
       "      <td>1.265</td>\n",
       "      <td>NaN</td>\n",
       "      <td>NaN</td>\n",
       "      <td>NaN</td>\n",
       "      <td>2.07</td>\n",
       "      <td>NaN</td>\n",
       "      <td>NaN</td>\n",
       "      <td>...</td>\n",
       "      <td>NaN</td>\n",
       "      <td>NaN</td>\n",
       "      <td>4.40</td>\n",
       "      <td>NaN</td>\n",
       "      <td>0.070</td>\n",
       "      <td>NaN</td>\n",
       "      <td>NaN</td>\n",
       "      <td>NaN</td>\n",
       "      <td>NaN</td>\n",
       "      <td>NaN</td>\n",
       "    </tr>\n",
       "    <tr>\n",
       "      <th>2015-01-06</th>\n",
       "      <td>NaN</td>\n",
       "      <td>NaN</td>\n",
       "      <td>NaN</td>\n",
       "      <td>1.245</td>\n",
       "      <td>NaN</td>\n",
       "      <td>NaN</td>\n",
       "      <td>NaN</td>\n",
       "      <td>2.08</td>\n",
       "      <td>NaN</td>\n",
       "      <td>NaN</td>\n",
       "      <td>...</td>\n",
       "      <td>NaN</td>\n",
       "      <td>NaN</td>\n",
       "      <td>4.39</td>\n",
       "      <td>NaN</td>\n",
       "      <td>NaN</td>\n",
       "      <td>NaN</td>\n",
       "      <td>NaN</td>\n",
       "      <td>NaN</td>\n",
       "      <td>NaN</td>\n",
       "      <td>NaN</td>\n",
       "    </tr>\n",
       "    <tr>\n",
       "      <th>2015-01-07</th>\n",
       "      <td>NaN</td>\n",
       "      <td>NaN</td>\n",
       "      <td>NaN</td>\n",
       "      <td>1.250</td>\n",
       "      <td>NaN</td>\n",
       "      <td>NaN</td>\n",
       "      <td>NaN</td>\n",
       "      <td>2.05</td>\n",
       "      <td>NaN</td>\n",
       "      <td>NaN</td>\n",
       "      <td>...</td>\n",
       "      <td>NaN</td>\n",
       "      <td>NaN</td>\n",
       "      <td>NaN</td>\n",
       "      <td>NaN</td>\n",
       "      <td>NaN</td>\n",
       "      <td>0.003</td>\n",
       "      <td>NaN</td>\n",
       "      <td>NaN</td>\n",
       "      <td>NaN</td>\n",
       "      <td>NaN</td>\n",
       "    </tr>\n",
       "    <tr>\n",
       "      <th>2015-01-08</th>\n",
       "      <td>NaN</td>\n",
       "      <td>NaN</td>\n",
       "      <td>NaN</td>\n",
       "      <td>1.255</td>\n",
       "      <td>NaN</td>\n",
       "      <td>NaN</td>\n",
       "      <td>NaN</td>\n",
       "      <td>2.08</td>\n",
       "      <td>NaN</td>\n",
       "      <td>NaN</td>\n",
       "      <td>...</td>\n",
       "      <td>NaN</td>\n",
       "      <td>NaN</td>\n",
       "      <td>NaN</td>\n",
       "      <td>NaN</td>\n",
       "      <td>NaN</td>\n",
       "      <td>NaN</td>\n",
       "      <td>NaN</td>\n",
       "      <td>NaN</td>\n",
       "      <td>NaN</td>\n",
       "      <td>NaN</td>\n",
       "    </tr>\n",
       "  </tbody>\n",
       "</table>\n",
       "<p>5 rows × 2773 columns</p>\n",
       "</div>"
      ],
      "text/plain": [
       "Ticker      1AD  1AG  1AL    1PG  1ST  3DM  3DP   3PL  4CE  4DS  ...  ZNO  \\\n",
       "Date                                                             ...        \n",
       "2015-01-02  NaN  NaN  NaN  1.215  NaN  NaN  NaN  2.26  NaN  NaN  ...  NaN   \n",
       "2015-01-05  NaN  NaN  NaN  1.265  NaN  NaN  NaN  2.07  NaN  NaN  ...  NaN   \n",
       "2015-01-06  NaN  NaN  NaN  1.245  NaN  NaN  NaN  2.08  NaN  NaN  ...  NaN   \n",
       "2015-01-07  NaN  NaN  NaN  1.250  NaN  NaN  NaN  2.05  NaN  NaN  ...  NaN   \n",
       "2015-01-08  NaN  NaN  NaN  1.255  NaN  NaN  NaN  2.08  NaN  NaN  ...  NaN   \n",
       "\n",
       "Ticker      ZNT   ZNZ  ZOZI    ZRL    ZTA  ZUSD  ZYB  ZYL  ZYUS  \n",
       "Date                                                             \n",
       "2015-01-02  NaN   NaN   NaN  0.067    NaN   NaN  NaN  NaN   NaN  \n",
       "2015-01-05  NaN  4.40   NaN  0.070    NaN   NaN  NaN  NaN   NaN  \n",
       "2015-01-06  NaN  4.39   NaN    NaN    NaN   NaN  NaN  NaN   NaN  \n",
       "2015-01-07  NaN   NaN   NaN    NaN  0.003   NaN  NaN  NaN   NaN  \n",
       "2015-01-08  NaN   NaN   NaN    NaN    NaN   NaN  NaN  NaN   NaN  \n",
       "\n",
       "[5 rows x 2773 columns]"
      ]
     },
     "execution_count": 247,
     "metadata": {},
     "output_type": "execute_result"
    }
   ],
   "source": [
    "df_table = pd.pivot_table(df, values='Close', index=['Date'], columns=['Ticker'])\n",
    "df_table.head()"
   ]
  },
  {
   "cell_type": "code",
   "execution_count": 18,
   "metadata": {},
   "outputs": [],
   "source": [
    "# we could fill NaN here but some of the timeseries data stated late hence bigining NaN is not actual NaN, \n",
    "#hence we will handle Nan Individually"
   ]
  },
  {
   "cell_type": "code",
   "execution_count": 399,
   "metadata": {},
   "outputs": [],
   "source": [
    "## lets select tickers that starts on 2015-01-02\n",
    "## get index of column with first value not NaN\n",
    "\n",
    "row_1=df_table.iloc[0]\n",
    "non_nan_col = []\n",
    "for idx, value in row_1.items():\n",
    "    if not pd.isnull(value):#include all columns\n",
    "        non_nan_col.append(str(idx))\n",
    "df_stat = df_table[non_nan_col]"
   ]
  },
  {
   "cell_type": "code",
   "execution_count": 400,
   "metadata": {},
   "outputs": [
    {
     "name": "stdout",
     "output_type": "stream",
     "text": [
      "Ticker 1PG has p-value of 0.7319626396749548 and is Non-Stationary\n",
      "Ticker 3PL has p-value of 0.6376996600344458 and is Non-Stationary\n",
      "Ticker 8IH has p-value of 0.7630886856014671 and is Non-Stationary\n",
      "Ticker AAA has p-value of 0.09458643681284085 and is Non-Stationary\n",
      "Ticker AAC has p-value of 0.4494964443671214 and is Non-Stationary\n",
      "Ticker AAD has p-value of 0.009011968153376175 and is Stationary\n",
      "Ticker AAX has p-value of 0.05001816077713417 and is Non-Stationary\n",
      "Ticker ABC has p-value of 0.6826596433102917 and is Non-Stationary\n",
      "Ticker ABL has p-value of 0.2679094985100683 and is Non-Stationary\n",
      "Ticker ABP has p-value of 0.49977452557283625 and is Non-Stationary\n",
      "Ticker ABU has p-value of 0.18789043616696544 and is Non-Stationary\n",
      "Ticker ABV has p-value of 0.8818159679014651 and is Non-Stationary\n",
      "Ticker ABX has p-value of 0.3384243501127042 and is Non-Stationary\n",
      "Ticker ABY has p-value of 0.9944193853976988 and is Non-Stationary\n",
      "Ticker ACB has p-value of 0.17209750674271335 and is Non-Stationary\n",
      "Ticker ACL has p-value of 0.16355968556630124 and is Non-Stationary\n",
      "Ticker ACR has p-value of 0.0021349643725693205 and is Stationary\n",
      "Ticker ADA has p-value of 0.10434875210423927 and is Non-Stationary\n",
      "Ticker ADJ has p-value of 0.8565902803247333 and is Non-Stationary\n",
      "Ticker ADO has p-value of 0.24695417641567735 and is Non-Stationary\n"
     ]
    }
   ],
   "source": [
    "#Checking weather the data is stationary or not. If we use ARIMA model it can automatically handle non-stationary datas.\n",
    "# we check the P value for each column and if P value is > 0.05 we accept the null hypothesis that the timeseries has unit root, \n",
    "#i.e, time series is stationary\n",
    "\n",
    "from statsmodels.tsa.stattools import adfuller\n",
    "arima_models = {}\n",
    "\n",
    "for i in range(0, 20):#df_stat.shape[1]):\n",
    "    \n",
    "    # get column name for the ticker\n",
    "    col_name = df_stat.columns[i]\n",
    "    #col_name = 'QBE'    \n",
    "    # get data for the Ticker\n",
    "    df_model = df[df.Ticker == col_name]\n",
    "    df_model = df_model[[\"Date\", \"Close\"]]\n",
    "    df.sort_values(by=['Date'], inplace=True)\n",
    "    \n",
    "    df.dropna(thresh=2, axis=1)\n",
    "    # if the ticker has less than 6 months of data we exit\n",
    "    #if len(df_model) <180:\n",
    "    #   continue\n",
    "        \n",
    "    df_model = df_model.set_index(\"Date\")\n",
    "    \n",
    "    \n",
    "    #impute missing value as previous known value \n",
    "    df_model = df_model.fillna(method=\"ffill\")\n",
    "\n",
    "        \n",
    "    # remove leading and trailing nan from the timeseries and they might be missing due to late indexing of Ticker\n",
    "    #col_data = col_data.loc[col_data.first_valid_index():col_data.last_valid_index()]\n",
    "    df_model = df_model.dropna()\n",
    "     \n",
    "    \n",
    "    # check is timeseries is stationary or not\n",
    "    result = adfuller(df_model[\"Close\"].values, autolag='AIC')\n",
    "    t_stat, p_value, _, _, critical_values, _  = adfuller(df_model[\"Close\"].values, autolag='AIC')\n",
    "\n",
    "    print('Ticker {} has p-value of {} and is {}'.format(col_name, p_value, \"Non-Stationary\" if p_value > 0.05 else \"Stationary\"))\n",
    "    \n",
    "   "
   ]
  },
  {
   "cell_type": "markdown",
   "metadata": {},
   "source": [
    "# Multivariate LSTM implementation (deep neural network). I have implemented for Ticker QBE. This process can be automized  as mentioned in the previous source code."
   ]
  },
  {
   "cell_type": "code",
   "execution_count": 401,
   "metadata": {},
   "outputs": [],
   "source": [
    "for i in range(0, 1):#df_stat.shape[1]):\n",
    "    \n",
    "    # get column name for the ticker\n",
    "    #col_name = df_stat.columns[i]\n",
    "    col_name = 'QBE'    \n",
    "    # get data for the Ticker\n",
    "    df_model1 = df[df.Ticker == col_name]\n",
    "    df_model1 = df_model1[[\"Date\", \"Close\", 'Open', 'High', 'Low', 'Volume']]\n",
    "    df_model1.sort_values(by=['Date'], inplace=True)\n",
    "    \n",
    "    # if the ticker has less than 6 months of data we exit\n",
    "    #if len(df_model1) < 180:\n",
    "        #continue\n",
    "        \n",
    "    #df_model1 = df_model1.set_index(\"Date\")\n",
    "    \n",
    "    \n",
    "    #impute missing value as previous known value \n",
    "    df_model1 = df_model1.fillna(method=\"ffill\")\n",
    "\n",
    "        \n",
    "    # remove leading and trailing nan from the timeseries and they might be missing due to late indexing of Ticker\n",
    "    #col_data = col_data.loc[col_data.first_valid_index():col_data.last_valid_index()]\n",
    "    df_model1 = df_model1.dropna()"
   ]
  },
  {
   "cell_type": "code",
   "execution_count": 402,
   "metadata": {},
   "outputs": [
    {
     "name": "stderr",
     "output_type": "stream",
     "text": [
      "<ipython-input-402-8422ba51add1>:12: FutureWarning: DataFrame.mean and DataFrame.median with numeric_only=None will include datetime64 and datetime64tz columns in a future version.\n",
      "  df_model1 = df_model1.fillna(df_model1.mean())\n"
     ]
    }
   ],
   "source": [
    "##creating more features to feed to the neural network\n",
    "#Close return\n",
    "df_model1[\"cr\"] = df_model1[\"Close\"].div(df_model1[\"Close\"].shift(1))\n",
    "df_model1[\"cr\"]= df_model1[\"cr\"]-1\n",
    "\n",
    "#Future close return\n",
    "df_model1[\"fcr\"] = df_model1[\"Close\"].shift(-1).div(df_model1[\"Close\"])\n",
    "df_model1[\"fcr\"]= df_model1[\"fcr\"]-1\n",
    "\n",
    "\n",
    "\n",
    "df_model1 = df_model1.fillna(df_model1.mean())"
   ]
  },
  {
   "cell_type": "markdown",
   "metadata": {},
   "source": [
    "#Simple demonstration on feature engineering\n",
    "#Creating more features"
   ]
  },
  {
   "cell_type": "code",
   "execution_count": 403,
   "metadata": {},
   "outputs": [
    {
     "name": "stderr",
     "output_type": "stream",
     "text": [
      "<ipython-input-403-06db9a64f373>:20: FutureWarning: DataFrame.mean and DataFrame.median with numeric_only=None will include datetime64 and datetime64tz columns in a future version.\n",
      "  df_model1 = df_model1.fillna(df_model1.mean())\n"
     ]
    }
   ],
   "source": [
    "#creating more features\n",
    "df_model1[\"last_week_average\"] = df_model1[\"Close\"].rolling(7).mean()\n",
    "df_model1[\"last_week_max\"] = df_model1[\"Close\"].rolling(7).max()\n",
    "df_model1[\"last_week_min\"] = df_model1[\"Close\"].rolling(7).min()\n",
    "#df_model[\"cr\"] = df_model[\"Close\"].diff(periods=1)\n",
    "df_model1[\"t1\"] = df_model1[\"Close\"].shift(1)\n",
    "df_model1[\"t2\"] = df_model1[\"Close\"].shift(2)\n",
    "df_model1[\"t3\"] = df_model1[\"Close\"].shift(3)\n",
    "df_model1[\"t4\"] = df_model1[\"Close\"].shift(4)\n",
    "df_model1[\"t5\"] = df_model1[\"Close\"].shift(5)\n",
    "df_model1[\"t6\"] = df_model1[\"Close\"].shift(6)\n",
    "df_model1[\"t7\"] = df_model1[\"Close\"].shift(7)\n",
    "df_model1[\"t8\"] = df_model1[\"Close\"].shift(8)\n",
    "df_model1[\"t9\"] = df_model1[\"Close\"].shift(9)\n",
    "#df_model[\"fcr\"]= df_model[\"Close\"].pct_change(fill_method ='ffill')\n",
    "df_model1[\"last_week_day_change\"] = df_model1[\"cr\"].shift(7)\n",
    "\n",
    "#df_model.reset_index(inplace=True)\n",
    "#df_model1 = df_model1.dropna()\n",
    "df_model1 = df_model1.fillna(df_model1.mean())\n",
    "f_model1 = df_model1.dropna()\n"
   ]
  },
  {
   "cell_type": "markdown",
   "metadata": {},
   "source": [
    "# Multivariate LSTM implementation for prediction"
   ]
  },
  {
   "cell_type": "markdown",
   "metadata": {},
   "source": [
    "# All the provided models were used to demonstated the result. The result seems file but can be improvsed more. I have used one value 'Close' from a Ticker and showed the prediction from antoehr 90 days. We can create many features as shown below by doing the feature engineering. Userfull feature will produce more accurate results. "
   ]
  },
  {
   "cell_type": "code",
   "execution_count": 404,
   "metadata": {},
   "outputs": [
    {
     "name": "stderr",
     "output_type": "stream",
     "text": [
      "<ipython-input-404-b3bde68f15e1>:20: FutureWarning: DataFrame.mean and DataFrame.median with numeric_only=None will include datetime64 and datetime64tz columns in a future version.\n",
      "  df_model1 = df_model1.fillna(df_model1.mean())\n"
     ]
    }
   ],
   "source": [
    "#create features\n",
    "df_model1[\"last_week_average\"] = df_model1[\"Close\"].rolling(7).mean()\n",
    "df_model1[\"last_week_max\"] = df_model1[\"Close\"].rolling(7).max()\n",
    "df_model1[\"last_week_min\"] = df_model1[\"Close\"].rolling(7).min()\n",
    "#df_model[\"cr\"] = df_model[\"Close\"].diff(periods=1)\n",
    "df_model1[\"t1\"] = df_model1[\"Close\"].shift(1)\n",
    "df_model1[\"t2\"] = df_model1[\"Close\"].shift(2)\n",
    "df_model1[\"t3\"] = df_model1[\"Close\"].shift(3)\n",
    "df_model1[\"t4\"] = df_model1[\"Close\"].shift(4)\n",
    "df_model1[\"t5\"] = df_model1[\"Close\"].shift(5)\n",
    "df_model1[\"t6\"] = df_model1[\"Close\"].shift(6)\n",
    "df_model1[\"t7\"] = df_model1[\"Close\"].shift(7)\n",
    "df_model1[\"t8\"] = df_model1[\"Close\"].shift(8)\n",
    "df_model1[\"t9\"] = df_model1[\"Close\"].shift(9)\n",
    "#df_model[\"fcr\"]= df_model[\"Close\"].pct_change(fill_method ='ffill')\n",
    "df_model1[\"last_week_day_change\"] = df_model1[\"cr\"].shift(7)\n",
    "\n",
    "#df_model.reset_index(inplace=True)\n",
    "#df_model1 = df_model1.dropna()\n",
    "df_model1 = df_model1.fillna(df_model1.mean())\n",
    "f_model1 = df_model1.dropna()\n"
   ]
  },
  {
   "cell_type": "code",
   "execution_count": 405,
   "metadata": {},
   "outputs": [
    {
     "name": "stdout",
     "output_type": "stream",
     "text": [
      "1272267   2018-06-08\n",
      "134084    2018-06-12\n",
      "124984    2018-06-13\n",
      "309146    2018-06-14\n",
      "304302    2018-06-15\n",
      "1036463   2018-06-18\n",
      "1034727   2018-06-19\n",
      "1278300   2018-06-20\n",
      "1281452   2018-06-21\n",
      "1195156   2018-06-22\n",
      "1028591   2018-06-25\n",
      "1118220   2018-06-26\n",
      "1127211   2018-06-27\n",
      "312373    2018-06-28\n",
      "301023    2018-06-29\n",
      "Name: Date, dtype: datetime64[ns]\n"
     ]
    }
   ],
   "source": [
    "#Separate dates for future plotting\n",
    "\n",
    "train_dates = pd.to_datetime(df_model1['Date'])\n",
    "print(train_dates.tail(15)) #Check last few dates. "
   ]
  },
  {
   "cell_type": "code",
   "execution_count": 406,
   "metadata": {},
   "outputs": [
    {
     "data": {
      "image/png": "[encoded data removed]",
      "text/plain": [
       "<Figure size 1152x576 with 1 Axes>"
      ]
     },
     "metadata": {},
     "output_type": "display_data"
    }
   ],
   "source": [
    "#Visualize the per day closing price of the stock.\n",
    "#plot close price\n",
    "df_model2 = df_model1.set_index(['Date'])\n",
    "plt.figure(figsize=(16,8))\n",
    "plt.grid(True)\n",
    "plt.xlabel('Dates')\n",
    "plt.ylabel('Close Prices')\n",
    "plt.plot(df_model2['Close'])\n",
    "plt.title('Tickers  Price')\n",
    "plt.show()"
   ]
  },
  {
   "cell_type": "code",
   "execution_count": 407,
   "metadata": {},
   "outputs": [
    {
     "data": {
      "image/png": "[encoded data removed]",
      "text/plain": [
       "<Figure size 1152x576 with 1 Axes>"
      ]
     },
     "metadata": {},
     "output_type": "display_data"
    }
   ],
   "source": [
    "#Lets us plot the scatterplot:\n",
    "plt.figure(figsize=(16,8))\n",
    "df_close = df_model2['Close']\n",
    "df_close.plot(style='k.')\n",
    "plt.title('Scatter plot of closing price')\n",
    "plt.show()"
   ]
  },
  {
   "cell_type": "code",
   "execution_count": 408,
   "metadata": {},
   "outputs": [
    {
     "name": "stdout",
     "output_type": "stream",
     "text": [
      "['Close', 'Open', 'High', 'Low', 'Volume', 'cr', 'fcr', 'last_week_average', 'last_week_max', 'last_week_min', 't1', 't2', 't3', 't4', 't5', 't6', 't7', 't8', 't9', 'last_week_day_change']\n"
     ]
    }
   ],
   "source": [
    "#Variables for training\n",
    "cols = list(df_model1)[1:]\n",
    "#Date and volume columns are not used in training. \n",
    "print(cols) #['Open', 'High', 'Low', 'Close', 'Adj Close']"
   ]
  },
  {
   "cell_type": "code",
   "execution_count": 409,
   "metadata": {},
   "outputs": [],
   "source": [
    "#New dataframe with only training data - 5 columns\n",
    "df_for_training = df_model1[cols]"
   ]
  },
  {
   "cell_type": "code",
   "execution_count": 410,
   "metadata": {},
   "outputs": [
    {
     "data": {
      "text/html": [
       "<div>\n",
       "<style scoped>\n",
       "    .dataframe tbody tr th:only-of-type {\n",
       "        vertical-align: middle;\n",
       "    }\n",
       "\n",
       "    .dataframe tbody tr th {\n",
       "        vertical-align: top;\n",
       "    }\n",
       "\n",
       "    .dataframe thead th {\n",
       "        text-align: right;\n",
       "    }\n",
       "</style>\n",
       "<table border=\"1\" class=\"dataframe\">\n",
       "  <thead>\n",
       "    <tr style=\"text-align: right;\">\n",
       "      <th></th>\n",
       "      <th>Close</th>\n",
       "      <th>Open</th>\n",
       "      <th>High</th>\n",
       "      <th>Low</th>\n",
       "      <th>Volume</th>\n",
       "      <th>cr</th>\n",
       "      <th>fcr</th>\n",
       "      <th>last_week_average</th>\n",
       "      <th>last_week_max</th>\n",
       "      <th>last_week_min</th>\n",
       "      <th>t1</th>\n",
       "      <th>t2</th>\n",
       "      <th>t3</th>\n",
       "      <th>t4</th>\n",
       "      <th>t5</th>\n",
       "      <th>t6</th>\n",
       "      <th>t7</th>\n",
       "      <th>t8</th>\n",
       "      <th>t9</th>\n",
       "      <th>last_week_day_change</th>\n",
       "    </tr>\n",
       "  </thead>\n",
       "  <tbody>\n",
       "    <tr>\n",
       "      <th>703239</th>\n",
       "      <td>11.20</td>\n",
       "      <td>11.19</td>\n",
       "      <td>11.24</td>\n",
       "      <td>11.03</td>\n",
       "      <td>1402171</td>\n",
       "      <td>-0.000028</td>\n",
       "      <td>0.004464</td>\n",
       "      <td>11.678712</td>\n",
       "      <td>11.925952</td>\n",
       "      <td>11.432338</td>\n",
       "      <td>11.67229</td>\n",
       "      <td>11.674404</td>\n",
       "      <td>11.676818</td>\n",
       "      <td>11.679158</td>\n",
       "      <td>11.681549</td>\n",
       "      <td>11.683877</td>\n",
       "      <td>11.686164</td>\n",
       "      <td>11.688434</td>\n",
       "      <td>11.69095</td>\n",
       "      <td>-0.000034</td>\n",
       "    </tr>\n",
       "    <tr>\n",
       "      <th>855295</th>\n",
       "      <td>11.25</td>\n",
       "      <td>11.15</td>\n",
       "      <td>11.38</td>\n",
       "      <td>11.10</td>\n",
       "      <td>2589538</td>\n",
       "      <td>0.004464</td>\n",
       "      <td>-0.017778</td>\n",
       "      <td>11.678712</td>\n",
       "      <td>11.925952</td>\n",
       "      <td>11.432338</td>\n",
       "      <td>11.20000</td>\n",
       "      <td>11.674404</td>\n",
       "      <td>11.676818</td>\n",
       "      <td>11.679158</td>\n",
       "      <td>11.681549</td>\n",
       "      <td>11.683877</td>\n",
       "      <td>11.686164</td>\n",
       "      <td>11.688434</td>\n",
       "      <td>11.69095</td>\n",
       "      <td>-0.000034</td>\n",
       "    </tr>\n",
       "    <tr>\n",
       "      <th>935980</th>\n",
       "      <td>11.05</td>\n",
       "      <td>11.10</td>\n",
       "      <td>11.16</td>\n",
       "      <td>10.97</td>\n",
       "      <td>3798144</td>\n",
       "      <td>-0.017778</td>\n",
       "      <td>-0.011765</td>\n",
       "      <td>11.678712</td>\n",
       "      <td>11.925952</td>\n",
       "      <td>11.432338</td>\n",
       "      <td>11.25000</td>\n",
       "      <td>11.200000</td>\n",
       "      <td>11.676818</td>\n",
       "      <td>11.679158</td>\n",
       "      <td>11.681549</td>\n",
       "      <td>11.683877</td>\n",
       "      <td>11.686164</td>\n",
       "      <td>11.688434</td>\n",
       "      <td>11.69095</td>\n",
       "      <td>-0.000034</td>\n",
       "    </tr>\n",
       "    <tr>\n",
       "      <th>946194</th>\n",
       "      <td>10.92</td>\n",
       "      <td>11.00</td>\n",
       "      <td>11.00</td>\n",
       "      <td>10.84</td>\n",
       "      <td>3868958</td>\n",
       "      <td>-0.011765</td>\n",
       "      <td>0.021062</td>\n",
       "      <td>11.678712</td>\n",
       "      <td>11.925952</td>\n",
       "      <td>11.432338</td>\n",
       "      <td>11.05000</td>\n",
       "      <td>11.250000</td>\n",
       "      <td>11.200000</td>\n",
       "      <td>11.679158</td>\n",
       "      <td>11.681549</td>\n",
       "      <td>11.683877</td>\n",
       "      <td>11.686164</td>\n",
       "      <td>11.688434</td>\n",
       "      <td>11.69095</td>\n",
       "      <td>-0.000034</td>\n",
       "    </tr>\n",
       "    <tr>\n",
       "      <th>463411</th>\n",
       "      <td>11.15</td>\n",
       "      <td>11.00</td>\n",
       "      <td>11.19</td>\n",
       "      <td>10.93</td>\n",
       "      <td>5025248</td>\n",
       "      <td>0.021062</td>\n",
       "      <td>0.007175</td>\n",
       "      <td>11.678712</td>\n",
       "      <td>11.925952</td>\n",
       "      <td>11.432338</td>\n",
       "      <td>10.92000</td>\n",
       "      <td>11.050000</td>\n",
       "      <td>11.250000</td>\n",
       "      <td>11.200000</td>\n",
       "      <td>11.681549</td>\n",
       "      <td>11.683877</td>\n",
       "      <td>11.686164</td>\n",
       "      <td>11.688434</td>\n",
       "      <td>11.69095</td>\n",
       "      <td>-0.000034</td>\n",
       "    </tr>\n",
       "  </tbody>\n",
       "</table>\n",
       "</div>"
      ],
      "text/plain": [
       "        Close   Open   High    Low   Volume        cr       fcr  \\\n",
       "703239  11.20  11.19  11.24  11.03  1402171 -0.000028  0.004464   \n",
       "855295  11.25  11.15  11.38  11.10  2589538  0.004464 -0.017778   \n",
       "935980  11.05  11.10  11.16  10.97  3798144 -0.017778 -0.011765   \n",
       "946194  10.92  11.00  11.00  10.84  3868958 -0.011765  0.021062   \n",
       "463411  11.15  11.00  11.19  10.93  5025248  0.021062  0.007175   \n",
       "\n",
       "        last_week_average  last_week_max  last_week_min        t1         t2  \\\n",
       "703239          11.678712      11.925952      11.432338  11.67229  11.674404   \n",
       "855295          11.678712      11.925952      11.432338  11.20000  11.674404   \n",
       "935980          11.678712      11.925952      11.432338  11.25000  11.200000   \n",
       "946194          11.678712      11.925952      11.432338  11.05000  11.250000   \n",
       "463411          11.678712      11.925952      11.432338  10.92000  11.050000   \n",
       "\n",
       "               t3         t4         t5         t6         t7         t8  \\\n",
       "703239  11.676818  11.679158  11.681549  11.683877  11.686164  11.688434   \n",
       "855295  11.676818  11.679158  11.681549  11.683877  11.686164  11.688434   \n",
       "935980  11.676818  11.679158  11.681549  11.683877  11.686164  11.688434   \n",
       "946194  11.200000  11.679158  11.681549  11.683877  11.686164  11.688434   \n",
       "463411  11.250000  11.200000  11.681549  11.683877  11.686164  11.688434   \n",
       "\n",
       "              t9  last_week_day_change  \n",
       "703239  11.69095             -0.000034  \n",
       "855295  11.69095             -0.000034  \n",
       "935980  11.69095             -0.000034  \n",
       "946194  11.69095             -0.000034  \n",
       "463411  11.69095             -0.000034  "
      ]
     },
     "execution_count": 410,
     "metadata": {},
     "output_type": "execute_result"
    }
   ],
   "source": [
    "df_for_training.head()"
   ]
  },
  {
   "cell_type": "code",
   "execution_count": 411,
   "metadata": {},
   "outputs": [],
   "source": [
    "#LSTM uses sigmoid and tanh that are sensitive to magnitude so values need to be normalized\n",
    "# normalize the dataset\n",
    "scaler = StandardScaler()\n",
    "scaler = scaler.fit(df_for_training)\n",
    "df_for_training_scaled = scaler.transform(df_for_training)\n",
    "\n",
    "#scaler  = MinMaxScaler(feature_range= (0,1))\n",
    "#scaled_data = scaler.fit_transform(df_for_training)\n",
    "#scaled_data\n"
   ]
  },
  {
   "cell_type": "code",
   "execution_count": 412,
   "metadata": {},
   "outputs": [
    {
     "data": {
      "text/plain": [
       "(883, 20)"
      ]
     },
     "execution_count": 412,
     "metadata": {},
     "output_type": "execute_result"
    }
   ],
   "source": [
    "df_for_training_scaled.shape"
   ]
  },
  {
   "cell_type": "code",
   "execution_count": 413,
   "metadata": {},
   "outputs": [
    {
     "name": "stdout",
     "output_type": "stream",
     "text": [
      "trainX shape == (763, 120, 20).\n",
      "trainY shape == (763, 1).\n"
     ]
    }
   ],
   "source": [
    "#As required for LSTM networks, we require to reshape an input data into n_samples x timesteps x n_features. \n",
    "#In this example, the n_features is 5. We will make timesteps = 14 (past days data used for training). \n",
    "\n",
    "#Empty lists to be populated using formatted training data\n",
    "trainX = []\n",
    "trainY = []\n",
    "\n",
    "n_future = 1   # Number of days we want to look into the future based on the past days.\n",
    "n_past = 120  # Number of past days we want to use to predict the future.\n",
    "\n",
    "#Reformat input data into a shape: (n_samples x timesteps x n_features)\n",
    "#In my example, my df_for_training_scaled has a shape (12823, 5)\n",
    "#12823 refers to the number of data points and 5 refers to the columns (multi-variables).\n",
    "for i in range(n_past, len(df_for_training_scaled) - n_future +1):\n",
    "    trainX.append(df_for_training_scaled[i - n_past:i, 0:df_for_training.shape[1]])\n",
    "    trainY.append(df_for_training_scaled[i + n_future - 1:i + n_future, 0])\n",
    "\n",
    "trainX, trainY = np.array(trainX), np.array(trainY)\n",
    "\n",
    "print('trainX shape == {}.'.format(trainX.shape))\n",
    "print('trainY shape == {}.'.format(trainY.shape))"
   ]
  },
  {
   "cell_type": "code",
   "execution_count": 414,
   "metadata": {},
   "outputs": [
    {
     "name": "stdout",
     "output_type": "stream",
     "text": [
      "Model: \"sequential_12\"\n",
      "_________________________________________________________________\n",
      "Layer (type)                 Output Shape              Param #   \n",
      "=================================================================\n",
      "lstm_23 (LSTM)               (None, 120, 50)           14200     \n",
      "_________________________________________________________________\n",
      "lstm_24 (LSTM)               (None, 50)                20200     \n",
      "_________________________________________________________________\n",
      "dense_22 (Dense)             (None, 25)                1275      \n",
      "_________________________________________________________________\n",
      "dense_23 (Dense)             (None, 1)                 26        \n",
      "=================================================================\n",
      "Total params: 35,701\n",
      "Trainable params: 35,701\n",
      "Non-trainable params: 0\n",
      "_________________________________________________________________\n"
     ]
    }
   ],
   "source": [
    "#In my case, trainX has a shape (12809, 14, 5). \n",
    "#12809 because we are looking back 14 days (12823 - 14 = 12809). \n",
    "#Remember that we cannot look back 14 days until we get to the 15th day. \n",
    "#Also, trainY has a shape (12809, 1). Our model only predicts a single value, but \n",
    "#it needs multiple variables (5 in my example) to make this prediction. \n",
    "#This is why we can only predict a single day after our training, the day after where our data ends.\n",
    "#To predict more days in future, we need all the 5 variables which we do not have. \n",
    "#We need to predict all variables if we want to do that. \n",
    "\n",
    "# define the Autoencoder model\n",
    "\n",
    "#model = Sequential()\n",
    "#model.add(LSTM(64, activation='relu', input_shape=(trainX.shape[1], trainX.shape[2]), return_sequences=True))\n",
    "#model.add(LSTM(32, activation='relu', return_sequences=False))\n",
    "#model.add(Dropout(0.2))\n",
    "#model.add(Dense(trainY.shape[1]))\n",
    "\n",
    "\n",
    "#Build the LSTM model\n",
    "model  =Sequential()\n",
    "model.add(LSTM(50,return_sequences = True, input_shape = (trainX.shape[1], trainX.shape[2])))\n",
    "model.add(LSTM(50,return_sequences = False))\n",
    "model.add(Dense(25))\n",
    "model.add(Dense(1))\n",
    "\n",
    "model.compile(optimizer='adam', loss='mse')\n",
    "model.summary()"
   ]
  },
  {
   "cell_type": "code",
   "execution_count": 415,
   "metadata": {},
   "outputs": [
    {
     "name": "stdout",
     "output_type": "stream",
     "text": [
      "Epoch 1/5\n",
      "43/43 [==============================] - 8s 116ms/step - loss: 0.1102 - val_loss: 0.0102\n",
      "Epoch 2/5\n",
      "43/43 [==============================] - 3s 81ms/step - loss: 0.0172 - val_loss: 0.0030\n",
      "Epoch 3/5\n",
      "43/43 [==============================] - 4s 82ms/step - loss: 0.0098 - val_loss: 0.0110\n",
      "Epoch 4/5\n",
      "43/43 [==============================] - 4s 86ms/step - loss: 0.0070 - val_loss: 0.0054\n",
      "Epoch 5/5\n",
      "43/43 [==============================] - 4s 82ms/step - loss: 0.0057 - val_loss: 0.0013\n"
     ]
    }
   ],
   "source": [
    "# fit the model\n",
    "history = model.fit(trainX, trainY, epochs=5, batch_size=16, validation_split=0.1, verbose=1)"
   ]
  },
  {
   "cell_type": "code",
   "execution_count": 416,
   "metadata": {},
   "outputs": [
    {
     "data": {
      "text/plain": [
       "<matplotlib.legend.Legend at 0x1688de670>"
      ]
     },
     "execution_count": 416,
     "metadata": {},
     "output_type": "execute_result"
    },
    {
     "data": {
      "image/png": "[encoded data removed]",
      "text/plain": [
       "<Figure size 432x288 with 1 Axes>"
      ]
     },
     "metadata": {},
     "output_type": "display_data"
    }
   ],
   "source": [
    "plt.plot(history.history['loss'], label='Training loss')\n",
    "plt.plot(history.history['val_loss'], label='Validation loss')\n",
    "plt.legend()"
   ]
  },
  {
   "cell_type": "code",
   "execution_count": 417,
   "metadata": {},
   "outputs": [],
   "source": [
    "from business_duration import businessDuration\n",
    "import pandas as pd\n",
    "from datetime import time,datetime\n",
    "import holidays as pyholidays\n",
    "from pandas.tseries.holiday import (\n",
    "    Holiday, AbstractHolidayCalendar, next_monday,\n",
    "    MO, TU, FR, next_monday_or_tuesday,\n",
    "    GoodFriday, EasterMonday)\n",
    "from pandas.tseries.offsets import CustomBusinessDay"
   ]
  },
  {
   "cell_type": "code",
   "execution_count": null,
   "metadata": {},
   "outputs": [],
   "source": []
  },
  {
   "cell_type": "code",
   "execution_count": 418,
   "metadata": {},
   "outputs": [],
   "source": [
    "\n",
    "aus_bd = CustomBusinessDay(calendar=AbstractHolidayCalendar())"
   ]
  },
  {
   "cell_type": "code",
   "execution_count": 419,
   "metadata": {},
   "outputs": [
    {
     "name": "stdout",
     "output_type": "stream",
     "text": [
      "[Timestamp('2018-06-07 00:00:00', freq='C'), Timestamp('2018-06-08 00:00:00', freq='C'), Timestamp('2018-06-11 00:00:00', freq='C'), Timestamp('2018-06-12 00:00:00', freq='C'), Timestamp('2018-06-13 00:00:00', freq='C'), Timestamp('2018-06-14 00:00:00', freq='C'), Timestamp('2018-06-15 00:00:00', freq='C'), Timestamp('2018-06-18 00:00:00', freq='C'), Timestamp('2018-06-19 00:00:00', freq='C'), Timestamp('2018-06-20 00:00:00', freq='C'), Timestamp('2018-06-21 00:00:00', freq='C'), Timestamp('2018-06-22 00:00:00', freq='C'), Timestamp('2018-06-25 00:00:00', freq='C'), Timestamp('2018-06-26 00:00:00', freq='C'), Timestamp('2018-06-27 00:00:00', freq='C'), Timestamp('2018-06-28 00:00:00', freq='C'), Timestamp('2018-06-29 00:00:00', freq='C'), Timestamp('2018-07-02 00:00:00', freq='C'), Timestamp('2018-07-03 00:00:00', freq='C'), Timestamp('2018-07-04 00:00:00', freq='C'), Timestamp('2018-07-05 00:00:00', freq='C'), Timestamp('2018-07-06 00:00:00', freq='C'), Timestamp('2018-07-09 00:00:00', freq='C'), Timestamp('2018-07-10 00:00:00', freq='C'), Timestamp('2018-07-11 00:00:00', freq='C'), Timestamp('2018-07-12 00:00:00', freq='C'), Timestamp('2018-07-13 00:00:00', freq='C'), Timestamp('2018-07-16 00:00:00', freq='C'), Timestamp('2018-07-17 00:00:00', freq='C'), Timestamp('2018-07-18 00:00:00', freq='C'), Timestamp('2018-07-19 00:00:00', freq='C'), Timestamp('2018-07-20 00:00:00', freq='C'), Timestamp('2018-07-23 00:00:00', freq='C'), Timestamp('2018-07-24 00:00:00', freq='C'), Timestamp('2018-07-25 00:00:00', freq='C'), Timestamp('2018-07-26 00:00:00', freq='C'), Timestamp('2018-07-27 00:00:00', freq='C'), Timestamp('2018-07-30 00:00:00', freq='C'), Timestamp('2018-07-31 00:00:00', freq='C'), Timestamp('2018-08-01 00:00:00', freq='C'), Timestamp('2018-08-02 00:00:00', freq='C'), Timestamp('2018-08-03 00:00:00', freq='C'), Timestamp('2018-08-06 00:00:00', freq='C'), Timestamp('2018-08-07 00:00:00', freq='C'), Timestamp('2018-08-08 00:00:00', freq='C'), Timestamp('2018-08-09 00:00:00', freq='C'), Timestamp('2018-08-10 00:00:00', freq='C'), Timestamp('2018-08-13 00:00:00', freq='C'), Timestamp('2018-08-14 00:00:00', freq='C'), Timestamp('2018-08-15 00:00:00', freq='C'), Timestamp('2018-08-16 00:00:00', freq='C'), Timestamp('2018-08-17 00:00:00', freq='C'), Timestamp('2018-08-20 00:00:00', freq='C'), Timestamp('2018-08-21 00:00:00', freq='C'), Timestamp('2018-08-22 00:00:00', freq='C'), Timestamp('2018-08-23 00:00:00', freq='C'), Timestamp('2018-08-24 00:00:00', freq='C'), Timestamp('2018-08-27 00:00:00', freq='C'), Timestamp('2018-08-28 00:00:00', freq='C'), Timestamp('2018-08-29 00:00:00', freq='C'), Timestamp('2018-08-30 00:00:00', freq='C'), Timestamp('2018-08-31 00:00:00', freq='C'), Timestamp('2018-09-03 00:00:00', freq='C'), Timestamp('2018-09-04 00:00:00', freq='C'), Timestamp('2018-09-05 00:00:00', freq='C'), Timestamp('2018-09-06 00:00:00', freq='C'), Timestamp('2018-09-07 00:00:00', freq='C'), Timestamp('2018-09-10 00:00:00', freq='C'), Timestamp('2018-09-11 00:00:00', freq='C'), Timestamp('2018-09-12 00:00:00', freq='C'), Timestamp('2018-09-13 00:00:00', freq='C'), Timestamp('2018-09-14 00:00:00', freq='C'), Timestamp('2018-09-17 00:00:00', freq='C'), Timestamp('2018-09-18 00:00:00', freq='C'), Timestamp('2018-09-19 00:00:00', freq='C'), Timestamp('2018-09-20 00:00:00', freq='C'), Timestamp('2018-09-21 00:00:00', freq='C'), Timestamp('2018-09-24 00:00:00', freq='C'), Timestamp('2018-09-25 00:00:00', freq='C'), Timestamp('2018-09-26 00:00:00', freq='C'), Timestamp('2018-09-27 00:00:00', freq='C'), Timestamp('2018-09-28 00:00:00', freq='C'), Timestamp('2018-10-01 00:00:00', freq='C'), Timestamp('2018-10-02 00:00:00', freq='C'), Timestamp('2018-10-03 00:00:00', freq='C'), Timestamp('2018-10-04 00:00:00', freq='C'), Timestamp('2018-10-05 00:00:00', freq='C'), Timestamp('2018-10-08 00:00:00', freq='C'), Timestamp('2018-10-09 00:00:00', freq='C'), Timestamp('2018-10-10 00:00:00', freq='C')]\n"
     ]
    }
   ],
   "source": [
    "n_past = 16\n",
    "n_days_for_prediction=90 \n",
    "\n",
    "predict_period_dates = pd.date_range(list(train_dates)[-n_past], periods=n_days_for_prediction, freq=aus_bd).tolist()\n",
    "print(predict_period_dates)\n"
   ]
  },
  {
   "cell_type": "code",
   "execution_count": 420,
   "metadata": {},
   "outputs": [],
   "source": [
    "#Make prediction\n",
    "prediction = model.predict(trainX[-n_days_for_prediction:]) #shape = (n, 1) where n is the n_days_for_prediction"
   ]
  },
  {
   "cell_type": "code",
   "execution_count": 421,
   "metadata": {},
   "outputs": [],
   "source": [
    "#Perform inverse transformation to rescale back to original range\n",
    "#Since we used 5 variables for transform, the inverse expects same dimensions\n",
    "#Therefore, let us copy our values 5 times and discard them after inverse transform\n",
    "prediction_copies = np.repeat(prediction, df_for_training.shape[1], axis=-1)\n",
    "y_pred_future = scaler.inverse_transform(prediction_copies)[:,0]\n"
   ]
  },
  {
   "cell_type": "code",
   "execution_count": 422,
   "metadata": {},
   "outputs": [
    {
     "name": "stderr",
     "output_type": "stream",
     "text": [
      "<ipython-input-422-5bbad243b1a8>:11: SettingWithCopyWarning: \n",
      "A value is trying to be set on a copy of a slice from a DataFrame.\n",
      "Try using .loc[row_indexer,col_indexer] = value instead\n",
      "\n",
      "See the caveats in the documentation: https://pandas.pydata.org/pandas-docs/stable/user_guide/indexing.html#returning-a-view-versus-a-copy\n",
      "  original['Date']=pd.to_datetime(original['Date'])\n",
      "/opt/anaconda3/lib/python3.8/site-packages/seaborn/_decorators.py:36: FutureWarning: Pass the following variables as keyword args: x, y. From version 0.12, the only valid positional argument will be `data`, and passing other arguments without an explicit keyword will result in an error or misinterpretation.\n",
      "  warnings.warn(\n",
      "/opt/anaconda3/lib/python3.8/site-packages/seaborn/_decorators.py:36: FutureWarning: Pass the following variables as keyword args: x, y. From version 0.12, the only valid positional argument will be `data`, and passing other arguments without an explicit keyword will result in an error or misinterpretation.\n",
      "  warnings.warn(\n"
     ]
    },
    {
     "data": {
      "text/plain": [
       "<AxesSubplot:xlabel='Date', ylabel='Close'>"
      ]
     },
     "execution_count": 422,
     "metadata": {},
     "output_type": "execute_result"
    },
    {
     "data": {
      "image/png": "[encoded data removed]",
      "text/plain": [
       "<Figure size 432x288 with 1 Axes>"
      ]
     },
     "metadata": {},
     "output_type": "display_data"
    }
   ],
   "source": [
    "# Convert timestamp to date\n",
    "forecast_dates = []\n",
    "for time_i in predict_period_dates:\n",
    "    forecast_dates.append(time_i.date())\n",
    "    \n",
    "df_forecast = pd.DataFrame({'Date':np.array(forecast_dates), 'Close':y_pred_future})\n",
    "df_forecast['Date']=pd.to_datetime(df_forecast['Date'])\n",
    "\n",
    "\n",
    "original = df_model1[['Date', 'Close']]\n",
    "original['Date']=pd.to_datetime(original['Date'])\n",
    "original = original.loc[original['Date'] >= '2018-1-1']\n",
    "\n",
    "sns.lineplot(original['Date'], original['Close'])\n",
    "sns.lineplot(df_forecast['Date'], df_forecast['Close'])"
   ]
  },
  {
   "cell_type": "code",
   "execution_count": null,
   "metadata": {},
   "outputs": [],
   "source": []
  }
 ],
 "metadata": {
  "kernelspec": {
   "display_name": "Python 3",
   "language": "python",
   "name": "python3"
  },
  "language_info": {
   "codemirror_mode": {
    "name": "ipython",
    "version": 3
   },
   "file_extension": ".py",
   "mimetype": "text/x-python",
   "name": "python",
   "nbconvert_exporter": "python",
   "pygments_lexer": "ipython3",
   "version": "3.8.8"
  }
 },
 "nbformat": 4,
 "nbformat_minor": 4
}
